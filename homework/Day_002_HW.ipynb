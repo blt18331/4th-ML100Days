{
 "cells": [
  {
   "cell_type": "code",
   "execution_count": 1,
   "metadata": {},
   "outputs": [],
   "source": [
    "#我認為遊戲產業是很適合機器學習發展的地方，玩家就是最好的資料來源，可以藉由玩家的資料來開發新客戶也可以藉由玩家的遊戲模式創造出不同的東西\n",
    "#例如新的電腦角色，可能有些需要多人闖關的劇情時，遊戲公司已經由舊玩家的遊戲資訊，創造適合搭配的虛擬角色協助遊玩這個角色或許也是新的商機\n",
    "#或是新的遊戲劇情，讓不同遊戲間的資料流通，如果可以自己生長出新劇情，就可以維持玩家的新鮮感，維持遊戲的熱度。"
   ]
  },
  {
   "cell_type": "code",
   "execution_count": null,
   "metadata": {},
   "outputs": [],
   "source": []
  }
 ],
 "metadata": {
  "kernelspec": {
   "display_name": "Python 3",
   "language": "python",
   "name": "python3"
  },
  "language_info": {
   "codemirror_mode": {
    "name": "ipython",
    "version": 3
   },
   "file_extension": ".py",
   "mimetype": "text/x-python",
   "name": "python",
   "nbconvert_exporter": "python",
   "pygments_lexer": "ipython3",
   "version": "3.6.5"
  }
 },
 "nbformat": 4,
 "nbformat_minor": 2
}
