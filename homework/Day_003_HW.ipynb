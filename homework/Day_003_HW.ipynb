{
 "cells": [
  {
   "cell_type": "code",
   "execution_count": 1,
   "metadata": {},
   "outputs": [],
   "source": [
    "# 我選擇的文章是 The On-Device Machine Learning Behind Recorder\n",
    "# 研究團隊想要增強錄音軟體的能力，搜尋關鍵字找到詞語在文章的那，而研究團隊想要藉由關鍵字找到在錄音檔的哪裡，但不局限於字詞也可能是音效或任何聲音\n",
    "# 研究團隊使用的應該是on-device machine learning吧？！\n",
    "# 資料來源：Google AI BLog"
   ]
  },
  {
   "cell_type": "code",
   "execution_count": null,
   "metadata": {},
   "outputs": [],
   "source": []
  }
 ],
 "metadata": {
  "kernelspec": {
   "display_name": "Python 3",
   "language": "python",
   "name": "python3"
  },
  "language_info": {
   "codemirror_mode": {
    "name": "ipython",
    "version": 3
   },
   "file_extension": ".py",
   "mimetype": "text/x-python",
   "name": "python",
   "nbconvert_exporter": "python",
   "pygments_lexer": "ipython3",
   "version": "3.6.5"
  }
 },
 "nbformat": 4,
 "nbformat_minor": 2
}
