{
 "cells": [
  {
   "cell_type": "code",
   "execution_count": 1,
   "metadata": {},
   "outputs": [
    {
     "name": "stderr",
     "output_type": "stream",
     "text": [
      "Using TensorFlow backend.\n"
     ]
    }
   ],
   "source": [
    "import os\n",
    "import keras"
   ]
  },
  {
   "cell_type": "code",
   "execution_count": 2,
   "metadata": {},
   "outputs": [],
   "source": [
    "train, test = keras.datasets.cifar10.load_data()"
   ]
  },
  {
   "cell_type": "code",
   "execution_count": 3,
   "metadata": {},
   "outputs": [],
   "source": [
    "## 資料前處理\n",
    "def preproc_x(x, flatten=True):\n",
    "    x = x / 255.\n",
    "    if flatten:\n",
    "        x = x.reshape((len(x), -1))\n",
    "    return x\n",
    "\n",
    "def preproc_y(y, num_classes=10):\n",
    "    if y.shape[-1] == 1:\n",
    "        y = keras.utils.to_categorical(y, num_classes)\n",
    "    return y  "
   ]
  },
  {
   "cell_type": "code",
   "execution_count": 4,
   "metadata": {},
   "outputs": [],
   "source": [
    "x_train, y_train = train\n",
    "x_test, y_test = test\n",
    "\n",
    "# 資料前處理 - X 標準化\n",
    "x_train = preproc_x(x_train)\n",
    "x_test = preproc_x(x_test)\n",
    "\n",
    "# 資料前處理 -Y 轉成 onehot\n",
    "y_train = preproc_y(y_train)\n",
    "y_test = preproc_y(y_test)"
   ]
  },
  {
   "cell_type": "code",
   "execution_count": 5,
   "metadata": {},
   "outputs": [],
   "source": [
    "from keras.layers import BatchNormalization\n",
    "\n",
    "\"\"\"\n",
    "建立神經網路，並加入 BN layer\n",
    "\"\"\"\n",
    "def build_mlp(input_shape, output_units=10, num_neurons=[512, 256, 128]):\n",
    "    input_layer = keras.layers.Input(input_shape)\n",
    "    \n",
    "    for i, n_units in enumerate(num_neurons):\n",
    "        if i == 0:\n",
    "            x = keras.layers.Dense(units=n_units, \n",
    "                                   activation=\"relu\", \n",
    "                                   name=\"hidden_layer\"+str(i+1))(input_layer)\n",
    "            x = BatchNormalization()(x)\n",
    "        else:\n",
    "            x = keras.layers.Dense(units=n_units, \n",
    "                                   activation=\"relu\", \n",
    "                                   name=\"hidden_layer\"+str(i+1))(x)\n",
    "            x = BatchNormalization()(x)\n",
    "    \n",
    "    out = keras.layers.Dense(units=output_units, activation=\"softmax\", name=\"output\")(x)\n",
    "    \n",
    "    model = keras.models.Model(inputs=[input_layer], outputs=[out])\n",
    "    return model"
   ]
  },
  {
   "cell_type": "code",
   "execution_count": 6,
   "metadata": {},
   "outputs": [],
   "source": [
    "## 超參數設定\n",
    "LEARNING_RATE = 1e-3\n",
    "EPOCHS = 50\n",
    "BATCH_SIZE = 1024\n",
    "MOMENTUM = 0.95"
   ]
  },
  {
   "cell_type": "code",
   "execution_count": 7,
   "metadata": {},
   "outputs": [
    {
     "name": "stdout",
     "output_type": "stream",
     "text": [
      "Model: \"model_1\"\n",
      "_________________________________________________________________\n",
      "Layer (type)                 Output Shape              Param #   \n",
      "=================================================================\n",
      "input_1 (InputLayer)         (None, 3072)              0         \n",
      "_________________________________________________________________\n",
      "hidden_layer1 (Dense)        (None, 512)               1573376   \n",
      "_________________________________________________________________\n",
      "batch_normalization_1 (Batch (None, 512)               2048      \n",
      "_________________________________________________________________\n",
      "hidden_layer2 (Dense)        (None, 256)               131328    \n",
      "_________________________________________________________________\n",
      "batch_normalization_2 (Batch (None, 256)               1024      \n",
      "_________________________________________________________________\n",
      "hidden_layer3 (Dense)        (None, 128)               32896     \n",
      "_________________________________________________________________\n",
      "batch_normalization_3 (Batch (None, 128)               512       \n",
      "_________________________________________________________________\n",
      "output (Dense)               (None, 10)                1290      \n",
      "=================================================================\n",
      "Total params: 1,742,474\n",
      "Trainable params: 1,740,682\n",
      "Non-trainable params: 1,792\n",
      "_________________________________________________________________\n",
      "Train on 50000 samples, validate on 10000 samples\n",
      "Epoch 1/50\n",
      "50000/50000 [==============================] - 6s 126us/step - loss: 2.2093 - accuracy: 0.2665 - val_loss: 2.1620 - val_accuracy: 0.2145\n",
      "Epoch 2/50\n",
      "50000/50000 [==============================] - 5s 100us/step - loss: 1.7500 - accuracy: 0.3882 - val_loss: 1.9736 - val_accuracy: 0.3044\n",
      "Epoch 3/50\n",
      "50000/50000 [==============================] - 5s 108us/step - loss: 1.6242 - accuracy: 0.4307 - val_loss: 1.8286 - val_accuracy: 0.3578\n",
      "Epoch 4/50\n",
      "50000/50000 [==============================] - 5s 99us/step - loss: 1.5475 - accuracy: 0.4609 - val_loss: 1.7161 - val_accuracy: 0.4126\n",
      "Epoch 5/50\n",
      "50000/50000 [==============================] - 5s 103us/step - loss: 1.4929 - accuracy: 0.4789 - val_loss: 1.6438 - val_accuracy: 0.4296\n",
      "Epoch 6/50\n",
      "50000/50000 [==============================] - 5s 103us/step - loss: 1.4504 - accuracy: 0.4942 - val_loss: 1.5870 - val_accuracy: 0.4476\n",
      "Epoch 7/50\n",
      "50000/50000 [==============================] - 5s 100us/step - loss: 1.4096 - accuracy: 0.5100 - val_loss: 1.5586 - val_accuracy: 0.4534\n",
      "Epoch 8/50\n",
      "50000/50000 [==============================] - 5s 107us/step - loss: 1.3743 - accuracy: 0.5239 - val_loss: 1.5333 - val_accuracy: 0.4621\n",
      "Epoch 9/50\n",
      "50000/50000 [==============================] - 5s 102us/step - loss: 1.3432 - accuracy: 0.5339 - val_loss: 1.5037 - val_accuracy: 0.4675\n",
      "Epoch 10/50\n",
      "50000/50000 [==============================] - 5s 103us/step - loss: 1.3121 - accuracy: 0.5437 - val_loss: 1.4913 - val_accuracy: 0.4688\n",
      "Epoch 11/50\n",
      "50000/50000 [==============================] - 5s 110us/step - loss: 1.2840 - accuracy: 0.5553 - val_loss: 1.4849 - val_accuracy: 0.4728\n",
      "Epoch 12/50\n",
      "50000/50000 [==============================] - 5s 105us/step - loss: 1.2564 - accuracy: 0.5669 - val_loss: 1.4673 - val_accuracy: 0.4806\n",
      "Epoch 13/50\n",
      "50000/50000 [==============================] - 5s 104us/step - loss: 1.2301 - accuracy: 0.5748 - val_loss: 1.4737 - val_accuracy: 0.4781\n",
      "Epoch 14/50\n",
      "50000/50000 [==============================] - 6s 126us/step - loss: 1.2055 - accuracy: 0.5861 - val_loss: 1.4702 - val_accuracy: 0.4769\n",
      "Epoch 15/50\n",
      "50000/50000 [==============================] - 6s 119us/step - loss: 1.1812 - accuracy: 0.5933 - val_loss: 1.4681 - val_accuracy: 0.4822\n",
      "Epoch 16/50\n",
      "50000/50000 [==============================] - 5s 109us/step - loss: 1.1568 - accuracy: 0.6020 - val_loss: 1.4615 - val_accuracy: 0.4812\n",
      "Epoch 17/50\n",
      "50000/50000 [==============================] - 6s 111us/step - loss: 1.1325 - accuracy: 0.6109 - val_loss: 1.4563 - val_accuracy: 0.4864\n",
      "Epoch 18/50\n",
      "50000/50000 [==============================] - 5s 110us/step - loss: 1.1105 - accuracy: 0.6187 - val_loss: 1.4481 - val_accuracy: 0.4856\n",
      "Epoch 19/50\n",
      "50000/50000 [==============================] - 5s 109us/step - loss: 1.0887 - accuracy: 0.6283 - val_loss: 1.4505 - val_accuracy: 0.4825\n",
      "Epoch 20/50\n",
      "50000/50000 [==============================] - 6s 110us/step - loss: 1.0654 - accuracy: 0.6375 - val_loss: 1.4622 - val_accuracy: 0.4853\n",
      "Epoch 21/50\n",
      "50000/50000 [==============================] - 6s 115us/step - loss: 1.0421 - accuracy: 0.6470 - val_loss: 1.4715 - val_accuracy: 0.4825\n",
      "Epoch 22/50\n",
      "50000/50000 [==============================] - 6s 114us/step - loss: 1.0224 - accuracy: 0.6544 - val_loss: 1.4578 - val_accuracy: 0.4868\n",
      "Epoch 23/50\n",
      "50000/50000 [==============================] - 6s 111us/step - loss: 0.9997 - accuracy: 0.6617 - val_loss: 1.4563 - val_accuracy: 0.4941\n",
      "Epoch 24/50\n",
      "50000/50000 [==============================] - 6s 113us/step - loss: 0.9788 - accuracy: 0.6713 - val_loss: 1.4576 - val_accuracy: 0.4864\n",
      "Epoch 25/50\n",
      "50000/50000 [==============================] - 6s 111us/step - loss: 0.9587 - accuracy: 0.6783 - val_loss: 1.4699 - val_accuracy: 0.4832\n",
      "Epoch 26/50\n",
      "50000/50000 [==============================] - 6s 116us/step - loss: 0.9392 - accuracy: 0.6836 - val_loss: 1.4623 - val_accuracy: 0.4926\n",
      "Epoch 27/50\n",
      "50000/50000 [==============================] - 6s 110us/step - loss: 0.9188 - accuracy: 0.6919 - val_loss: 1.4673 - val_accuracy: 0.4876\n",
      "Epoch 28/50\n",
      "50000/50000 [==============================] - 5s 109us/step - loss: 0.8969 - accuracy: 0.7022 - val_loss: 1.4834 - val_accuracy: 0.4896\n",
      "Epoch 29/50\n",
      "50000/50000 [==============================] - 6s 115us/step - loss: 0.8777 - accuracy: 0.7094 - val_loss: 1.4660 - val_accuracy: 0.4930\n",
      "Epoch 30/50\n",
      "50000/50000 [==============================] - 5s 107us/step - loss: 0.8558 - accuracy: 0.7195 - val_loss: 1.4902 - val_accuracy: 0.4880\n",
      "Epoch 31/50\n",
      "50000/50000 [==============================] - 6s 118us/step - loss: 0.8358 - accuracy: 0.7257 - val_loss: 1.4897 - val_accuracy: 0.4946\n",
      "Epoch 32/50\n",
      "50000/50000 [==============================] - 5s 100us/step - loss: 0.8188 - accuracy: 0.7326 - val_loss: 1.4992 - val_accuracy: 0.4878\n",
      "Epoch 33/50\n",
      "50000/50000 [==============================] - 5s 97us/step - loss: 0.7957 - accuracy: 0.7420 - val_loss: 1.5138 - val_accuracy: 0.4901\n",
      "Epoch 34/50\n",
      "50000/50000 [==============================] - 5s 97us/step - loss: 0.7775 - accuracy: 0.7478 - val_loss: 1.5011 - val_accuracy: 0.4908\n",
      "Epoch 35/50\n",
      "50000/50000 [==============================] - 5s 96us/step - loss: 0.7572 - accuracy: 0.7569 - val_loss: 1.5168 - val_accuracy: 0.4923\n",
      "Epoch 36/50\n",
      "50000/50000 [==============================] - 5s 95us/step - loss: 0.7381 - accuracy: 0.7647 - val_loss: 1.5073 - val_accuracy: 0.4950\n",
      "Epoch 37/50\n",
      "50000/50000 [==============================] - 5s 95us/step - loss: 0.7188 - accuracy: 0.7723 - val_loss: 1.5172 - val_accuracy: 0.4945\n",
      "Epoch 38/50\n",
      "50000/50000 [==============================] - 5s 97us/step - loss: 0.6981 - accuracy: 0.7811 - val_loss: 1.5431 - val_accuracy: 0.4899\n",
      "Epoch 39/50\n",
      "50000/50000 [==============================] - 5s 97us/step - loss: 0.6795 - accuracy: 0.7866 - val_loss: 1.5465 - val_accuracy: 0.4902\n",
      "Epoch 40/50\n",
      "50000/50000 [==============================] - 5s 96us/step - loss: 0.6609 - accuracy: 0.7940 - val_loss: 1.5767 - val_accuracy: 0.4923\n",
      "Epoch 41/50\n",
      "50000/50000 [==============================] - 5s 95us/step - loss: 0.6426 - accuracy: 0.8030 - val_loss: 1.5729 - val_accuracy: 0.4849\n",
      "Epoch 42/50\n",
      "50000/50000 [==============================] - 5s 97us/step - loss: 0.6256 - accuracy: 0.8089 - val_loss: 1.5804 - val_accuracy: 0.4870\n",
      "Epoch 43/50\n",
      "50000/50000 [==============================] - 5s 95us/step - loss: 0.6091 - accuracy: 0.8150 - val_loss: 1.6158 - val_accuracy: 0.4823\n",
      "Epoch 44/50\n",
      "50000/50000 [==============================] - 5s 95us/step - loss: 0.5872 - accuracy: 0.8259 - val_loss: 1.5964 - val_accuracy: 0.4903\n",
      "Epoch 45/50\n",
      "50000/50000 [==============================] - 5s 97us/step - loss: 0.5718 - accuracy: 0.8300 - val_loss: 1.6191 - val_accuracy: 0.4901\n",
      "Epoch 46/50\n"
     ]
    },
    {
     "name": "stdout",
     "output_type": "stream",
     "text": [
      "50000/50000 [==============================] - 5s 95us/step - loss: 0.5559 - accuracy: 0.8369 - val_loss: 1.6322 - val_accuracy: 0.4849\n",
      "Epoch 47/50\n",
      "50000/50000 [==============================] - 5s 96us/step - loss: 0.5359 - accuracy: 0.8456 - val_loss: 1.6509 - val_accuracy: 0.4865\n",
      "Epoch 48/50\n",
      "50000/50000 [==============================] - 5s 95us/step - loss: 0.5203 - accuracy: 0.8509 - val_loss: 1.6724 - val_accuracy: 0.4852\n",
      "Epoch 49/50\n",
      "50000/50000 [==============================] - 5s 97us/step - loss: 0.5048 - accuracy: 0.8574 - val_loss: 1.6702 - val_accuracy: 0.4877\n",
      "Epoch 50/50\n",
      "50000/50000 [==============================] - 5s 95us/step - loss: 0.4866 - accuracy: 0.8630 - val_loss: 1.6738 - val_accuracy: 0.4920\n"
     ]
    }
   ],
   "source": [
    "model = build_mlp(input_shape=x_train.shape[1:])\n",
    "model.summary()\n",
    "optimizer = keras.optimizers.SGD(lr=LEARNING_RATE, nesterov=True, momentum=MOMENTUM)\n",
    "model.compile(loss=\"categorical_crossentropy\", metrics=[\"accuracy\"], optimizer=optimizer)\n",
    "\n",
    "model.fit(x_train, y_train, \n",
    "          epochs=EPOCHS, \n",
    "          batch_size=BATCH_SIZE, \n",
    "          validation_data=(x_test, y_test), \n",
    "          shuffle=True)\n",
    "\n",
    "# Collect results\n",
    "train_loss = model.history.history[\"loss\"]\n",
    "valid_loss = model.history.history[\"val_loss\"]\n",
    "train_acc = model.history.history[\"accuracy\"]\n",
    "valid_acc = model.history.history[\"val_accuracy\"]"
   ]
  },
  {
   "cell_type": "code",
   "execution_count": 8,
   "metadata": {},
   "outputs": [
    {
     "data": {
      "image/png": "[encoded data removed]",
      "text/plain": [
       "<Figure size 432x288 with 1 Axes>"
      ]
     },
     "metadata": {
      "needs_background": "light"
     },
     "output_type": "display_data"
    },
    {
     "data": {
      "image/png": "[encoded data removed]",
      "text/plain": [
       "<Figure size 432x288 with 1 Axes>"
      ]
     },
     "metadata": {
      "needs_background": "light"
     },
     "output_type": "display_data"
    }
   ],
   "source": [
    "import matplotlib.pyplot as plt\n",
    "%matplotlib inline\n",
    "\n",
    "plt.plot(range(len(train_loss)), train_loss, label=\"train loss\")\n",
    "plt.plot(range(len(valid_loss)), valid_loss, label=\"valid loss\")\n",
    "plt.legend()\n",
    "plt.title(\"Loss\")\n",
    "plt.show()\n",
    "\n",
    "plt.plot(range(len(train_acc)), train_acc, label=\"train accuracy\")\n",
    "plt.plot(range(len(valid_acc)), valid_acc, label=\"valid accuracy\")\n",
    "plt.legend()\n",
    "plt.title(\"Accuracy\")\n",
    "plt.show()"
   ]
  },
  {
   "cell_type": "code",
   "execution_count": null,
   "metadata": {},
   "outputs": [],
   "source": [
    "\n",
    "def build_mlp():\n",
    "    \"\"\"Code Here\n",
    "    建立你的神經網路\n",
    "    \"\"\"\n",
    "    return model"
   ]
  },
  {
   "cell_type": "code",
   "execution_count": null,
   "metadata": {},
   "outputs": [],
   "source": [
    "\"\"\"Code Here\n",
    "設定超參數\n",
    "\"\"\""
   ]
  },
  {
   "cell_type": "code",
   "execution_count": null,
   "metadata": {},
   "outputs": [],
   "source": [
    "results = {}\n",
    "\"\"\"Code Here\n",
    "撰寫你的訓練流程並將結果用 dictionary 紀錄\n",
    "\"\"\""
   ]
  },
  {
   "cell_type": "code",
   "execution_count": null,
   "metadata": {},
   "outputs": [],
   "source": [
    "import matplotlib.pyplot as plt\n",
    "%matplotlib inline\n",
    "\"\"\"Code Here\n",
    "將結果繪出\n",
    "\"\"\""
   ]
  }
 ],
 "metadata": {
  "kernelspec": {
   "display_name": "Python 3",
   "language": "python",
   "name": "python3"
  },
  "language_info": {
   "codemirror_mode": {
    "name": "ipython",
    "version": 3
   },
   "file_extension": ".py",
   "mimetype": "text/x-python",
   "name": "python",
   "nbconvert_exporter": "python",
   "pygments_lexer": "ipython3",
   "version": "3.7.6"
  }
 },
 "nbformat": 4,
 "nbformat_minor": 4
}
