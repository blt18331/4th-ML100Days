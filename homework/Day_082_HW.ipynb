{
 "cells": [
  {
   "cell_type": "code",
   "execution_count": 1,
   "metadata": {},
   "outputs": [
    {
     "name": "stderr",
     "output_type": "stream",
     "text": [
      "Using TensorFlow backend.\n"
     ]
    }
   ],
   "source": [
    "import os\n",
    "import keras"
   ]
  },
  {
   "cell_type": "code",
   "execution_count": 2,
   "metadata": {},
   "outputs": [],
   "source": [
    "train, test = keras.datasets.cifar10.load_data()"
   ]
  },
  {
   "cell_type": "code",
   "execution_count": 3,
   "metadata": {},
   "outputs": [],
   "source": [
    "## 資料前處理\n",
    "def preproc_x(x, flatten=True):\n",
    "    x = x / 255.\n",
    "    if flatten:\n",
    "        x = x.reshape((len(x), -1))\n",
    "    return x\n",
    "\n",
    "def preproc_y(y, num_classes=10):\n",
    "    if y.shape[-1] == 1:\n",
    "        y = keras.utils.to_categorical(y, num_classes)\n",
    "    return y  "
   ]
  },
  {
   "cell_type": "code",
   "execution_count": 4,
   "metadata": {},
   "outputs": [],
   "source": [
    "x_train, y_train = train\n",
    "x_test, y_test = test\n",
    "\n",
    "# 資料前處理 - X 標準化\n",
    "x_train = preproc_x(x_train)\n",
    "x_test = preproc_x(x_test)\n",
    "\n",
    "# 資料前處理 -Y 轉成 onehot\n",
    "y_train = preproc_y(y_train)\n",
    "y_test = preproc_y(y_test)"
   ]
  },
  {
   "cell_type": "code",
   "execution_count": 5,
   "metadata": {},
   "outputs": [],
   "source": [
    "from keras.layers import Dropout\n",
    "\n",
    "\"\"\"\n",
    "建立神經網路，並加入 dropout layer\n",
    "\"\"\"\n",
    "def build_mlp(input_shape, output_units=10, num_neurons=[512, 256, 128], drp_ratio=0.2):\n",
    "    input_layer = keras.layers.Input(input_shape)\n",
    "    \n",
    "    for i, n_units in enumerate(num_neurons):\n",
    "        if i == 0:\n",
    "            x = keras.layers.Dense(units=n_units, \n",
    "                                   activation=\"relu\", \n",
    "                                   name=\"hidden_layer\"+str(i+1))(input_layer)\n",
    "            x = Dropout(drp_ratio)(x)\n",
    "        else:\n",
    "            x = keras.layers.Dense(units=n_units, \n",
    "                                   activation=\"relu\", \n",
    "                                   name=\"hidden_layer\"+str(i+1))(x)\n",
    "            x = Dropout(drp_ratio)(x)\n",
    "    \n",
    "    out = keras.layers.Dense(units=output_units, activation=\"softmax\", name=\"output\")(x)\n",
    "    \n",
    "    model = keras.models.Model(inputs=[input_layer], outputs=[out])\n",
    "    return model"
   ]
  },
  {
   "cell_type": "code",
   "execution_count": 6,
   "metadata": {},
   "outputs": [],
   "source": [
    "## 超參數設定\n",
    "LEARNING_RATE = 1e-3\n",
    "EPOCHS = 50\n",
    "BATCH_SIZE = 256\n",
    "MOMENTUM = 0.95\n",
    "Dropout_EXP = 0.25"
   ]
  },
  {
   "cell_type": "code",
   "execution_count": 7,
   "metadata": {},
   "outputs": [
    {
     "name": "stdout",
     "output_type": "stream",
     "text": [
      "Model: \"model_1\"\n",
      "_________________________________________________________________\n",
      "Layer (type)                 Output Shape              Param #   \n",
      "=================================================================\n",
      "input_1 (InputLayer)         (None, 3072)              0         \n",
      "_________________________________________________________________\n",
      "hidden_layer1 (Dense)        (None, 512)               1573376   \n",
      "_________________________________________________________________\n",
      "dropout_1 (Dropout)          (None, 512)               0         \n",
      "_________________________________________________________________\n",
      "hidden_layer2 (Dense)        (None, 256)               131328    \n",
      "_________________________________________________________________\n",
      "dropout_2 (Dropout)          (None, 256)               0         \n",
      "_________________________________________________________________\n",
      "hidden_layer3 (Dense)        (None, 128)               32896     \n",
      "_________________________________________________________________\n",
      "dropout_3 (Dropout)          (None, 128)               0         \n",
      "_________________________________________________________________\n",
      "output (Dense)               (None, 10)                1290      \n",
      "=================================================================\n",
      "Total params: 1,738,890\n",
      "Trainable params: 1,738,890\n",
      "Non-trainable params: 0\n",
      "_________________________________________________________________\n",
      "Train on 50000 samples, validate on 10000 samples\n",
      "Epoch 1/50\n",
      "50000/50000 [==============================] - 6s 124us/step - loss: 2.1938 - accuracy: 0.1850 - val_loss: 1.9841 - val_accuracy: 0.3010\n",
      "Epoch 2/50\n",
      "50000/50000 [==============================] - 6s 114us/step - loss: 1.9975 - accuracy: 0.2696 - val_loss: 1.8714 - val_accuracy: 0.3375\n",
      "Epoch 3/50\n",
      "50000/50000 [==============================] - 5s 106us/step - loss: 1.9104 - accuracy: 0.3094 - val_loss: 1.8001 - val_accuracy: 0.3647\n",
      "Epoch 4/50\n",
      "50000/50000 [==============================] - 6s 111us/step - loss: 1.8573 - accuracy: 0.3344 - val_loss: 1.7449 - val_accuracy: 0.3786\n",
      "Epoch 5/50\n",
      "50000/50000 [==============================] - 6s 121us/step - loss: 1.8123 - accuracy: 0.3502 - val_loss: 1.7042 - val_accuracy: 0.3949\n",
      "Epoch 6/50\n",
      "50000/50000 [==============================] - 6s 117us/step - loss: 1.7754 - accuracy: 0.3652 - val_loss: 1.6725 - val_accuracy: 0.4092\n",
      "Epoch 7/50\n",
      "50000/50000 [==============================] - 5s 107us/step - loss: 1.7456 - accuracy: 0.3744 - val_loss: 1.6376 - val_accuracy: 0.4212\n",
      "Epoch 8/50\n",
      "50000/50000 [==============================] - 6s 112us/step - loss: 1.7180 - accuracy: 0.3866 - val_loss: 1.6155 - val_accuracy: 0.4302\n",
      "Epoch 9/50\n",
      "50000/50000 [==============================] - 6s 124us/step - loss: 1.6989 - accuracy: 0.3969 - val_loss: 1.6016 - val_accuracy: 0.4369\n",
      "Epoch 10/50\n",
      "50000/50000 [==============================] - 6s 125us/step - loss: 1.6724 - accuracy: 0.4049 - val_loss: 1.5805 - val_accuracy: 0.4415\n",
      "Epoch 11/50\n",
      "50000/50000 [==============================] - 6s 127us/step - loss: 1.6581 - accuracy: 0.4101 - val_loss: 1.5513 - val_accuracy: 0.4540\n",
      "Epoch 12/50\n",
      "50000/50000 [==============================] - 6s 119us/step - loss: 1.6363 - accuracy: 0.4192 - val_loss: 1.5420 - val_accuracy: 0.4492\n",
      "Epoch 13/50\n",
      "50000/50000 [==============================] - 6s 120us/step - loss: 1.6195 - accuracy: 0.4220 - val_loss: 1.5198 - val_accuracy: 0.4632\n",
      "Epoch 14/50\n",
      "50000/50000 [==============================] - 6s 114us/step - loss: 1.6033 - accuracy: 0.4333 - val_loss: 1.5099 - val_accuracy: 0.4646\n",
      "Epoch 15/50\n",
      "50000/50000 [==============================] - 6s 115us/step - loss: 1.5860 - accuracy: 0.4371 - val_loss: 1.4993 - val_accuracy: 0.4720\n",
      "Epoch 16/50\n",
      "50000/50000 [==============================] - 6s 123us/step - loss: 1.5739 - accuracy: 0.4409 - val_loss: 1.4881 - val_accuracy: 0.4775\n",
      "Epoch 17/50\n",
      "50000/50000 [==============================] - 7s 130us/step - loss: 1.5593 - accuracy: 0.4444 - val_loss: 1.4744 - val_accuracy: 0.4784\n",
      "Epoch 18/50\n",
      "50000/50000 [==============================] - 7s 133us/step - loss: 1.5477 - accuracy: 0.4519 - val_loss: 1.4661 - val_accuracy: 0.4792\n",
      "Epoch 19/50\n",
      "50000/50000 [==============================] - 6s 125us/step - loss: 1.5367 - accuracy: 0.4527 - val_loss: 1.4622 - val_accuracy: 0.4860\n",
      "Epoch 20/50\n",
      "50000/50000 [==============================] - 6s 126us/step - loss: 1.5241 - accuracy: 0.4580 - val_loss: 1.4478 - val_accuracy: 0.4877\n",
      "Epoch 21/50\n",
      "50000/50000 [==============================] - 6s 124us/step - loss: 1.5133 - accuracy: 0.4610 - val_loss: 1.4473 - val_accuracy: 0.4838\n",
      "Epoch 22/50\n",
      "50000/50000 [==============================] - 6s 116us/step - loss: 1.5047 - accuracy: 0.4651 - val_loss: 1.4440 - val_accuracy: 0.4857\n",
      "Epoch 23/50\n",
      "50000/50000 [==============================] - 6s 118us/step - loss: 1.4920 - accuracy: 0.4695 - val_loss: 1.4245 - val_accuracy: 0.4902\n",
      "Epoch 24/50\n",
      "50000/50000 [==============================] - 6s 127us/step - loss: 1.4803 - accuracy: 0.4700 - val_loss: 1.4147 - val_accuracy: 0.4945\n",
      "Epoch 25/50\n",
      "50000/50000 [==============================] - 6s 126us/step - loss: 1.4765 - accuracy: 0.4718 - val_loss: 1.4083 - val_accuracy: 0.4967\n",
      "Epoch 26/50\n",
      "50000/50000 [==============================] - 6s 129us/step - loss: 1.4656 - accuracy: 0.4773 - val_loss: 1.4025 - val_accuracy: 0.4988\n",
      "Epoch 27/50\n",
      "50000/50000 [==============================] - 6s 129us/step - loss: 1.4552 - accuracy: 0.4814 - val_loss: 1.4052 - val_accuracy: 0.4974\n",
      "Epoch 28/50\n",
      "50000/50000 [==============================] - 6s 122us/step - loss: 1.4455 - accuracy: 0.4831 - val_loss: 1.3975 - val_accuracy: 0.5021\n",
      "Epoch 29/50\n",
      "50000/50000 [==============================] - 6s 124us/step - loss: 1.4397 - accuracy: 0.4852 - val_loss: 1.3951 - val_accuracy: 0.5020\n",
      "Epoch 30/50\n",
      "50000/50000 [==============================] - 6s 117us/step - loss: 1.4327 - accuracy: 0.4903 - val_loss: 1.3863 - val_accuracy: 0.5071\n",
      "Epoch 31/50\n",
      "50000/50000 [==============================] - 7s 133us/step - loss: 1.4216 - accuracy: 0.4905 - val_loss: 1.3844 - val_accuracy: 0.5060\n",
      "Epoch 32/50\n",
      "50000/50000 [==============================] - 7s 130us/step - loss: 1.4137 - accuracy: 0.4937 - val_loss: 1.3745 - val_accuracy: 0.5065\n",
      "Epoch 33/50\n",
      "50000/50000 [==============================] - 6s 123us/step - loss: 1.4056 - accuracy: 0.5016 - val_loss: 1.3693 - val_accuracy: 0.5127\n",
      "Epoch 34/50\n",
      "50000/50000 [==============================] - 7s 135us/step - loss: 1.3971 - accuracy: 0.5006 - val_loss: 1.3638 - val_accuracy: 0.5132\n",
      "Epoch 35/50\n",
      "50000/50000 [==============================] - 7s 149us/step - loss: 1.3880 - accuracy: 0.5047 - val_loss: 1.3593 - val_accuracy: 0.5160\n",
      "Epoch 36/50\n",
      "50000/50000 [==============================] - 6s 117us/step - loss: 1.3849 - accuracy: 0.5084 - val_loss: 1.3701 - val_accuracy: 0.5100\n",
      "Epoch 37/50\n",
      "50000/50000 [==============================] - 6s 129us/step - loss: 1.3745 - accuracy: 0.5080 - val_loss: 1.3489 - val_accuracy: 0.5143\n",
      "Epoch 38/50\n",
      "50000/50000 [==============================] - 6s 129us/step - loss: 1.3665 - accuracy: 0.5123 - val_loss: 1.3385 - val_accuracy: 0.5176\n",
      "Epoch 39/50\n",
      "50000/50000 [==============================] - 6s 115us/step - loss: 1.3587 - accuracy: 0.5152 - val_loss: 1.3366 - val_accuracy: 0.5259\n",
      "Epoch 40/50\n",
      "50000/50000 [==============================] - 6s 126us/step - loss: 1.3551 - accuracy: 0.5160 - val_loss: 1.3374 - val_accuracy: 0.5234\n",
      "Epoch 41/50\n",
      "50000/50000 [==============================] - 6s 117us/step - loss: 1.3473 - accuracy: 0.5195 - val_loss: 1.3406 - val_accuracy: 0.5189\n",
      "Epoch 42/50\n",
      "50000/50000 [==============================] - 7s 136us/step - loss: 1.3417 - accuracy: 0.5226 - val_loss: 1.3541 - val_accuracy: 0.5151\n",
      "Epoch 43/50\n",
      "50000/50000 [==============================] - 6s 127us/step - loss: 1.3327 - accuracy: 0.5232 - val_loss: 1.3273 - val_accuracy: 0.5254\n",
      "Epoch 44/50\n",
      "50000/50000 [==============================] - 7s 134us/step - loss: 1.3256 - accuracy: 0.5249 - val_loss: 1.3277 - val_accuracy: 0.5237\n",
      "Epoch 45/50\n",
      "50000/50000 [==============================] - 6s 121us/step - loss: 1.3245 - accuracy: 0.5248 - val_loss: 1.3281 - val_accuracy: 0.5210\n",
      "Epoch 46/50\n"
     ]
    },
    {
     "name": "stdout",
     "output_type": "stream",
     "text": [
      "50000/50000 [==============================] - 7s 131us/step - loss: 1.3132 - accuracy: 0.5305 - val_loss: 1.3275 - val_accuracy: 0.5254\n",
      "Epoch 47/50\n",
      "50000/50000 [==============================] - 8s 151us/step - loss: 1.3093 - accuracy: 0.5333 - val_loss: 1.3213 - val_accuracy: 0.5269\n",
      "Epoch 48/50\n",
      "50000/50000 [==============================] - 7s 138us/step - loss: 1.3013 - accuracy: 0.5331 - val_loss: 1.3164 - val_accuracy: 0.5284\n",
      "Epoch 49/50\n",
      "50000/50000 [==============================] - 7s 139us/step - loss: 1.2947 - accuracy: 0.5384 - val_loss: 1.3155 - val_accuracy: 0.5317\n",
      "Epoch 50/50\n",
      "50000/50000 [==============================] - 6s 122us/step - loss: 1.2911 - accuracy: 0.5376 - val_loss: 1.3115 - val_accuracy: 0.5305\n"
     ]
    }
   ],
   "source": [
    "model = build_mlp(input_shape=x_train.shape[1:], drp_ratio=Dropout_EXP)\n",
    "model.summary()\n",
    "optimizer = keras.optimizers.SGD(lr=LEARNING_RATE, nesterov=True, momentum=MOMENTUM)\n",
    "model.compile(loss=\"categorical_crossentropy\", metrics=[\"accuracy\"], optimizer=optimizer)\n",
    "\n",
    "model.fit(x_train, y_train, \n",
    "          epochs=EPOCHS, \n",
    "          batch_size=BATCH_SIZE, \n",
    "          validation_data=(x_test, y_test), \n",
    "          shuffle=True)\n",
    "\n",
    "# Collect results\n",
    "train_loss = model.history.history[\"loss\"]\n",
    "valid_loss = model.history.history[\"val_loss\"]\n",
    "train_acc = model.history.history[\"accuracy\"]\n",
    "valid_acc = model.history.history[\"val_accuracy\"]"
   ]
  },
  {
   "cell_type": "code",
   "execution_count": 8,
   "metadata": {},
   "outputs": [
    {
     "data": {
      "image/png": "[encoded data removed]",
      "text/plain": [
       "<Figure size 432x288 with 1 Axes>"
      ]
     },
     "metadata": {
      "needs_background": "light"
     },
     "output_type": "display_data"
    },
    {
     "data": {
      "image/png": "[encoded data removed]",
      "text/plain": [
       "<Figure size 432x288 with 1 Axes>"
      ]
     },
     "metadata": {
      "needs_background": "light"
     },
     "output_type": "display_data"
    }
   ],
   "source": [
    "import matplotlib.pyplot as plt\n",
    "%matplotlib inline\n",
    "\n",
    "plt.plot(range(len(train_loss)), train_loss, label=\"train loss\")\n",
    "plt.plot(range(len(valid_loss)), valid_loss, label=\"valid loss\")\n",
    "plt.legend()\n",
    "plt.title(\"Loss\")\n",
    "plt.show()\n",
    "\n",
    "plt.plot(range(len(train_acc)), train_acc, label=\"train accuracy\")\n",
    "plt.plot(range(len(valid_acc)), valid_acc, label=\"valid accuracy\")\n",
    "plt.legend()\n",
    "plt.title(\"Accuracy\")\n",
    "plt.show()\n"
   ]
  },
  {
   "cell_type": "code",
   "execution_count": null,
   "metadata": {},
   "outputs": [],
   "source": [
    "from keras.layers import Dropout\n",
    "\n",
    "\"\"\"\n",
    "建立神經網路，並加入 dropout layer\n",
    "\"\"\"\n",
    "def build_mlp(input_shape, output_units=10, num_neurons=[512, 256, 128], drp_ratio=0.2):\n",
    "    input_layer = keras.layers.Input(input_shape)\n",
    "    \n",
    "    for i, n_units in enumerate(num_neurons):\n",
    "        if i == 0:\n",
    "            x = keras.layers.Dense(units=n_units, \n",
    "                                   activation=\"relu\", \n",
    "                                   name=\"hidden_layer\"+str(i+1))(input_layer)\n",
    "            x = Dropout(drp_ratio)(x)\n",
    "        else:\n",
    "            x = keras.layers.Dense(units=n_units, \n",
    "                                   activation=\"relu\", \n",
    "                                   name=\"hidden_layer\"+str(i+1))(x)\n",
    "            x = Dropout(drp_ratio)(x)\n",
    "    \n",
    "    out = keras.layers.Dense(units=output_units, activation=\"softmax\", name=\"output\")(x)\n",
    "    \n",
    "    model = keras.models.Model(inputs=[input_layer], outputs=[out])\n",
    "    return model"
   ]
  },
  {
   "cell_type": "code",
   "execution_count": null,
   "metadata": {},
   "outputs": [],
   "source": [
    "## 超參數設定\n",
    "LEARNING_RATE = 1e-3\n",
    "EPOCHS = 50\n",
    "BATCH_SIZE = 256\n",
    "MOMENTUM = 0.95\n",
    "Dropout_EXP = 0.1"
   ]
  },
  {
   "cell_type": "code",
   "execution_count": null,
   "metadata": {},
   "outputs": [],
   "source": [
    "model = build_mlp(input_shape=x_train.shape[1:], drp_ratio=Dropout_EXP)\n",
    "model.summary()\n",
    "optimizer = keras.optimizers.SGD(lr=LEARNING_RATE, nesterov=True, momentum=MOMENTUM)\n",
    "model.compile(loss=\"categorical_crossentropy\", metrics=[\"accuracy\"], optimizer='Adam')\n",
    "\n",
    "model.fit(x_train, y_train, \n",
    "          epochs=EPOCHS, \n",
    "          batch_size=BATCH_SIZE, \n",
    "          validation_data=(x_test, y_test), \n",
    "          shuffle=True)\n",
    "\n",
    "# Collect results\n",
    "train_loss = model.history.history[\"loss\"]\n",
    "valid_loss = model.history.history[\"val_loss\"]\n",
    "train_acc = model.history.history[\"accuracy\"]\n",
    "valid_acc = model.history.history[\"val_accuracy\"]"
   ]
  },
  {
   "cell_type": "code",
   "execution_count": null,
   "metadata": {},
   "outputs": [],
   "source": [
    "import matplotlib.pyplot as plt\n",
    "%matplotlib inline\n",
    "\n",
    "plt.plot(range(len(train_loss)), train_loss, label=\"train loss\")\n",
    "plt.plot(range(len(valid_loss)), valid_loss, label=\"valid loss\")\n",
    "plt.legend()\n",
    "plt.title(\"Loss\")\n",
    "plt.show()\n",
    "\n",
    "plt.plot(range(len(train_acc)), train_acc, label=\"train accuracy\")\n",
    "plt.plot(range(len(valid_acc)), valid_acc, label=\"valid accuracy\")\n",
    "plt.legend()\n",
    "plt.title(\"Accuracy\")\n",
    "plt.show()\n",
    "\n"
   ]
  }
 ],
 "metadata": {
  "kernelspec": {
   "display_name": "Python 3",
   "language": "python",
   "name": "python3"
  },
  "language_info": {
   "codemirror_mode": {
    "name": "ipython",
    "version": 3
   },
   "file_extension": ".py",
   "mimetype": "text/x-python",
   "name": "python",
   "nbconvert_exporter": "python",
   "pygments_lexer": "ipython3",
   "version": "3.7.6"
  }
 },
 "nbformat": 4,
 "nbformat_minor": 4
}
