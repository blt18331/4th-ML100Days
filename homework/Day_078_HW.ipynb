{
 "cells": [
  {
   "cell_type": "code",
   "execution_count": 1,
   "metadata": {},
   "outputs": [
    {
     "name": "stdout",
     "output_type": "stream",
     "text": [
      "/bin/sh: nvidia-smi: command not found\r\n"
     ]
    }
   ],
   "source": [
    "## 確認硬體資源 (如果你是在 Linux, 若是在 Windows, 請參考 https://blog.csdn.net/idwtwt/article/details/78017565)\n",
    "!nvidia-smi"
   ]
  },
  {
   "cell_type": "code",
   "execution_count": 2,
   "metadata": {},
   "outputs": [
    {
     "name": "stderr",
     "output_type": "stream",
     "text": [
      "Using TensorFlow backend.\n"
     ]
    }
   ],
   "source": [
    "import os\n",
    "import keras"
   ]
  },
  {
   "cell_type": "code",
   "execution_count": 3,
   "metadata": {},
   "outputs": [],
   "source": [
    "# 從 Keras 的內建功能中，取得 train 與 test 資料集\n",
    "train, test = keras.datasets.cifar10.load_data()"
   ]
  },
  {
   "cell_type": "code",
   "execution_count": 4,
   "metadata": {},
   "outputs": [],
   "source": [
    "## 資料前處理\n",
    "def preproc_x(x, flatten=True):\n",
    "    x = x / 255.\n",
    "    if flatten:\n",
    "        x = x.reshape((len(x), -1))\n",
    "    return x\n",
    "\n",
    "def preproc_y(y, num_classes=10):\n",
    "    if y.shape[-1] == 1:\n",
    "        y = keras.utils.to_categorical(y, num_classes)\n",
    "    return y  "
   ]
  },
  {
   "cell_type": "code",
   "execution_count": 5,
   "metadata": {},
   "outputs": [],
   "source": [
    "x_train, y_train = train\n",
    "x_test, y_test = test\n",
    "\n",
    "# 資料前處理 - X 標準化\n",
    "x_train = preproc_x(x_train)\n",
    "x_test = preproc_x(x_test)\n",
    "\n",
    "# 資料前處理 -Y 轉成 onehot\n",
    "y_train = preproc_y(y_train)\n",
    "y_test = preproc_y(y_test)"
   ]
  },
  {
   "cell_type": "code",
   "execution_count": 6,
   "metadata": {},
   "outputs": [],
   "source": [
    "def build_mlp(input_shape, output_units=10, num_neurons=[512, 256, 128]):\n",
    "    input_layer = keras.layers.Input(input_shape)\n",
    "    \n",
    "    for i, n_units in enumerate(num_neurons):\n",
    "        if i == 0:\n",
    "            x = keras.layers.Dense(units=n_units, activation=\"relu\", name=\"hidden_layer\"+str(i+1))(input_layer)\n",
    "        else:\n",
    "            x = keras.layers.Dense(units=n_units, activation=\"relu\", name=\"hidden_layer\"+str(i+1))(x)\n",
    "    \n",
    "    out = keras.layers.Dense(units=output_units, activation=\"softmax\", name=\"output\")(x)\n",
    "    \n",
    "    model = keras.models.Model(inputs=[input_layer], outputs=[out])\n",
    "    return model"
   ]
  },
  {
   "cell_type": "code",
   "execution_count": 7,
   "metadata": {},
   "outputs": [
    {
     "name": "stdout",
     "output_type": "stream",
     "text": [
      "Model: \"model_1\"\n",
      "_________________________________________________________________\n",
      "Layer (type)                 Output Shape              Param #   \n",
      "=================================================================\n",
      "input_1 (InputLayer)         (None, 3072)              0         \n",
      "_________________________________________________________________\n",
      "hidden_layer1 (Dense)        (None, 512)               1573376   \n",
      "_________________________________________________________________\n",
      "hidden_layer2 (Dense)        (None, 256)               131328    \n",
      "_________________________________________________________________\n",
      "hidden_layer3 (Dense)        (None, 128)               32896     \n",
      "_________________________________________________________________\n",
      "output (Dense)               (None, 10)                1290      \n",
      "=================================================================\n",
      "Total params: 1,738,890\n",
      "Trainable params: 1,738,890\n",
      "Non-trainable params: 0\n",
      "_________________________________________________________________\n"
     ]
    }
   ],
   "source": [
    "model = build_mlp(input_shape=x_train.shape[1:])\n",
    "model.summary()"
   ]
  },
  {
   "cell_type": "code",
   "execution_count": 8,
   "metadata": {},
   "outputs": [],
   "source": [
    "## 超參數設定\n",
    "LEARNING_RATE = 0.001\n",
    "EPOCHS = 100\n",
    "BATCH_SIZE = 256"
   ]
  },
  {
   "cell_type": "code",
   "execution_count": 9,
   "metadata": {},
   "outputs": [],
   "source": [
    "optimizer = keras.optimizers.Adam(lr=LEARNING_RATE)\n",
    "model.compile(loss=\"categorical_crossentropy\", metrics=[\"accuracy\"], optimizer=optimizer)"
   ]
  },
  {
   "cell_type": "code",
   "execution_count": 10,
   "metadata": {},
   "outputs": [
    {
     "name": "stdout",
     "output_type": "stream",
     "text": [
      "Train on 50000 samples, validate on 10000 samples\n",
      "Epoch 1/100\n",
      "50000/50000 [==============================] - 7s 131us/step - loss: 1.9424 - accuracy: 0.3008 - val_loss: 1.7887 - val_accuracy: 0.3445\n",
      "Epoch 2/100\n",
      "50000/50000 [==============================] - 6s 113us/step - loss: 1.7186 - accuracy: 0.3870 - val_loss: 1.6791 - val_accuracy: 0.3943\n",
      "Epoch 3/100\n",
      "50000/50000 [==============================] - 6s 119us/step - loss: 1.6303 - accuracy: 0.4170 - val_loss: 1.5698 - val_accuracy: 0.4426\n",
      "Epoch 4/100\n",
      "50000/50000 [==============================] - 6s 111us/step - loss: 1.5519 - accuracy: 0.4462 - val_loss: 1.5355 - val_accuracy: 0.4533\n",
      "Epoch 5/100\n",
      "50000/50000 [==============================] - 6s 113us/step - loss: 1.5120 - accuracy: 0.4608 - val_loss: 1.5234 - val_accuracy: 0.4626\n",
      "Epoch 6/100\n",
      "50000/50000 [==============================] - 6s 116us/step - loss: 1.4713 - accuracy: 0.4741 - val_loss: 1.4970 - val_accuracy: 0.4655\n",
      "Epoch 7/100\n",
      "50000/50000 [==============================] - 6s 118us/step - loss: 1.4360 - accuracy: 0.4867 - val_loss: 1.4592 - val_accuracy: 0.4789\n",
      "Epoch 8/100\n",
      "50000/50000 [==============================] - 6s 115us/step - loss: 1.4070 - accuracy: 0.4977 - val_loss: 1.4427 - val_accuracy: 0.4905\n",
      "Epoch 9/100\n",
      "50000/50000 [==============================] - 6s 117us/step - loss: 1.3769 - accuracy: 0.5084 - val_loss: 1.4330 - val_accuracy: 0.4871\n",
      "Epoch 10/100\n",
      "50000/50000 [==============================] - 6s 120us/step - loss: 1.3484 - accuracy: 0.5198 - val_loss: 1.4839 - val_accuracy: 0.4820\n",
      "Epoch 11/100\n",
      "50000/50000 [==============================] - 6s 119us/step - loss: 1.3429 - accuracy: 0.5234 - val_loss: 1.4522 - val_accuracy: 0.4891\n",
      "Epoch 12/100\n",
      "50000/50000 [==============================] - 6s 126us/step - loss: 1.3121 - accuracy: 0.5305 - val_loss: 1.3842 - val_accuracy: 0.5123\n",
      "Epoch 13/100\n",
      "50000/50000 [==============================] - 6s 124us/step - loss: 1.2819 - accuracy: 0.5436 - val_loss: 1.3892 - val_accuracy: 0.5049\n",
      "Epoch 14/100\n",
      "50000/50000 [==============================] - 5s 108us/step - loss: 1.2615 - accuracy: 0.5495 - val_loss: 1.3899 - val_accuracy: 0.5088\n",
      "Epoch 15/100\n",
      "50000/50000 [==============================] - 5s 109us/step - loss: 1.2465 - accuracy: 0.5563 - val_loss: 1.3781 - val_accuracy: 0.5129\n",
      "Epoch 16/100\n",
      "50000/50000 [==============================] - 6s 112us/step - loss: 1.2157 - accuracy: 0.5673 - val_loss: 1.3830 - val_accuracy: 0.5108\n",
      "Epoch 17/100\n",
      "50000/50000 [==============================] - 6s 118us/step - loss: 1.2002 - accuracy: 0.5717 - val_loss: 1.3607 - val_accuracy: 0.5127\n",
      "Epoch 18/100\n",
      "50000/50000 [==============================] - 6s 127us/step - loss: 1.1757 - accuracy: 0.5811 - val_loss: 1.3899 - val_accuracy: 0.5124\n",
      "Epoch 19/100\n",
      "50000/50000 [==============================] - 6s 118us/step - loss: 1.1690 - accuracy: 0.5826 - val_loss: 1.3752 - val_accuracy: 0.5239\n",
      "Epoch 20/100\n",
      "50000/50000 [==============================] - 6s 113us/step - loss: 1.1451 - accuracy: 0.5927 - val_loss: 1.3616 - val_accuracy: 0.5285\n",
      "Epoch 21/100\n",
      "50000/50000 [==============================] - 6s 114us/step - loss: 1.1212 - accuracy: 0.6000 - val_loss: 1.3564 - val_accuracy: 0.5172\n",
      "Epoch 22/100\n",
      "50000/50000 [==============================] - 6s 120us/step - loss: 1.1006 - accuracy: 0.6071 - val_loss: 1.3993 - val_accuracy: 0.5108\n",
      "Epoch 23/100\n",
      "50000/50000 [==============================] - 6s 116us/step - loss: 1.0803 - accuracy: 0.6123 - val_loss: 1.3827 - val_accuracy: 0.5200\n",
      "Epoch 24/100\n",
      "50000/50000 [==============================] - 6s 122us/step - loss: 1.0692 - accuracy: 0.6169 - val_loss: 1.3828 - val_accuracy: 0.5226\n",
      "Epoch 25/100\n",
      "50000/50000 [==============================] - 6s 121us/step - loss: 1.0485 - accuracy: 0.6262 - val_loss: 1.3876 - val_accuracy: 0.5187\n",
      "Epoch 26/100\n",
      "50000/50000 [==============================] - 6s 120us/step - loss: 1.0317 - accuracy: 0.6313 - val_loss: 1.3713 - val_accuracy: 0.5285\n",
      "Epoch 27/100\n",
      "50000/50000 [==============================] - 6s 122us/step - loss: 1.0172 - accuracy: 0.6347 - val_loss: 1.4056 - val_accuracy: 0.5265\n",
      "Epoch 28/100\n",
      "50000/50000 [==============================] - 6s 122us/step - loss: 0.9924 - accuracy: 0.6448 - val_loss: 1.4034 - val_accuracy: 0.5239\n",
      "Epoch 29/100\n",
      "50000/50000 [==============================] - 6s 116us/step - loss: 0.9766 - accuracy: 0.6503 - val_loss: 1.4559 - val_accuracy: 0.5197\n",
      "Epoch 30/100\n",
      "50000/50000 [==============================] - 6s 115us/step - loss: 0.9667 - accuracy: 0.6548 - val_loss: 1.4469 - val_accuracy: 0.5184\n",
      "Epoch 31/100\n",
      "50000/50000 [==============================] - 6s 115us/step - loss: 0.9427 - accuracy: 0.6636 - val_loss: 1.4530 - val_accuracy: 0.5191\n",
      "Epoch 32/100\n",
      "50000/50000 [==============================] - 6s 123us/step - loss: 0.9279 - accuracy: 0.6676 - val_loss: 1.4364 - val_accuracy: 0.5327\n",
      "Epoch 33/100\n",
      "50000/50000 [==============================] - 6s 118us/step - loss: 0.9131 - accuracy: 0.6740 - val_loss: 1.4791 - val_accuracy: 0.5190\n",
      "Epoch 34/100\n",
      "50000/50000 [==============================] - 7s 138us/step - loss: 0.8958 - accuracy: 0.6803 - val_loss: 1.4546 - val_accuracy: 0.5247\n",
      "Epoch 35/100\n",
      "50000/50000 [==============================] - 6s 119us/step - loss: 0.8787 - accuracy: 0.6855 - val_loss: 1.4985 - val_accuracy: 0.5272\n",
      "Epoch 36/100\n",
      "50000/50000 [==============================] - 7s 135us/step - loss: 0.8696 - accuracy: 0.6892 - val_loss: 1.4973 - val_accuracy: 0.5339\n",
      "Epoch 37/100\n",
      "50000/50000 [==============================] - 6s 119us/step - loss: 0.8458 - accuracy: 0.6980 - val_loss: 1.5252 - val_accuracy: 0.5173\n",
      "Epoch 38/100\n",
      "50000/50000 [==============================] - 6s 119us/step - loss: 0.8302 - accuracy: 0.7034 - val_loss: 1.5859 - val_accuracy: 0.5166\n",
      "Epoch 39/100\n",
      "50000/50000 [==============================] - 7s 135us/step - loss: 0.8239 - accuracy: 0.7052 - val_loss: 1.5541 - val_accuracy: 0.5209\n",
      "Epoch 40/100\n",
      "50000/50000 [==============================] - 8s 157us/step - loss: 0.8065 - accuracy: 0.7095 - val_loss: 1.5318 - val_accuracy: 0.5310\n",
      "Epoch 41/100\n",
      "50000/50000 [==============================] - 6s 111us/step - loss: 0.7980 - accuracy: 0.7154 - val_loss: 1.5433 - val_accuracy: 0.5294\n",
      "Epoch 42/100\n",
      "50000/50000 [==============================] - 7s 138us/step - loss: 0.7690 - accuracy: 0.7241 - val_loss: 1.6021 - val_accuracy: 0.5169\n",
      "Epoch 43/100\n",
      "50000/50000 [==============================] - 6s 128us/step - loss: 0.7559 - accuracy: 0.7288 - val_loss: 1.6244 - val_accuracy: 0.5228\n",
      "Epoch 44/100\n",
      "50000/50000 [==============================] - 6s 120us/step - loss: 0.7425 - accuracy: 0.7338 - val_loss: 1.6121 - val_accuracy: 0.5255\n",
      "Epoch 45/100\n",
      "50000/50000 [==============================] - 7s 133us/step - loss: 0.7360 - accuracy: 0.7372 - val_loss: 1.6442 - val_accuracy: 0.5168\n",
      "Epoch 46/100\n",
      "50000/50000 [==============================] - 6s 123us/step - loss: 0.7247 - accuracy: 0.7405 - val_loss: 1.6738 - val_accuracy: 0.5157\n",
      "Epoch 47/100\n",
      "50000/50000 [==============================] - 6s 116us/step - loss: 0.6991 - accuracy: 0.7493 - val_loss: 1.6939 - val_accuracy: 0.5165\n",
      "Epoch 48/100\n",
      "50000/50000 [==============================] - 6s 118us/step - loss: 0.6896 - accuracy: 0.7536 - val_loss: 1.7787 - val_accuracy: 0.5147\n",
      "Epoch 49/100\n",
      "50000/50000 [==============================] - 6s 122us/step - loss: 0.6919 - accuracy: 0.7510 - val_loss: 1.7991 - val_accuracy: 0.5064\n",
      "Epoch 50/100\n",
      "50000/50000 [==============================] - 6s 122us/step - loss: 0.6702 - accuracy: 0.7584 - val_loss: 1.8113 - val_accuracy: 0.5072\n",
      "Epoch 51/100\n",
      "50000/50000 [==============================] - 6s 120us/step - loss: 0.6595 - accuracy: 0.7665 - val_loss: 1.7503 - val_accuracy: 0.5166\n",
      "Epoch 52/100\n",
      "50000/50000 [==============================] - 8s 162us/step - loss: 0.6426 - accuracy: 0.7692 - val_loss: 1.7976 - val_accuracy: 0.5116\n",
      "Epoch 53/100\n",
      "50000/50000 [==============================] - 6s 123us/step - loss: 0.6440 - accuracy: 0.7695 - val_loss: 1.8277 - val_accuracy: 0.5152\n",
      "Epoch 54/100\n",
      "50000/50000 [==============================] - 6s 119us/step - loss: 0.6144 - accuracy: 0.7801 - val_loss: 1.8674 - val_accuracy: 0.5188\n",
      "Epoch 55/100\n"
     ]
    },
    {
     "name": "stdout",
     "output_type": "stream",
     "text": [
      "50000/50000 [==============================] - 7s 131us/step - loss: 0.6157 - accuracy: 0.7776 - val_loss: 1.8555 - val_accuracy: 0.5176\n",
      "Epoch 56/100\n",
      "50000/50000 [==============================] - 6s 125us/step - loss: 0.6010 - accuracy: 0.7860 - val_loss: 1.9036 - val_accuracy: 0.5191\n",
      "Epoch 57/100\n",
      "50000/50000 [==============================] - 6s 111us/step - loss: 0.5943 - accuracy: 0.7862 - val_loss: 1.9243 - val_accuracy: 0.5104\n",
      "Epoch 58/100\n",
      "50000/50000 [==============================] - 6s 110us/step - loss: 0.5759 - accuracy: 0.7915 - val_loss: 1.9205 - val_accuracy: 0.5089\n",
      "Epoch 59/100\n",
      "50000/50000 [==============================] - 6s 122us/step - loss: 0.5622 - accuracy: 0.7981 - val_loss: 1.9433 - val_accuracy: 0.5095\n",
      "Epoch 60/100\n",
      "50000/50000 [==============================] - 7s 133us/step - loss: 0.5535 - accuracy: 0.8021 - val_loss: 2.0672 - val_accuracy: 0.5105\n",
      "Epoch 61/100\n",
      "50000/50000 [==============================] - 6s 117us/step - loss: 0.5459 - accuracy: 0.8048 - val_loss: 2.0287 - val_accuracy: 0.5019\n",
      "Epoch 62/100\n",
      "50000/50000 [==============================] - 7s 143us/step - loss: 0.5325 - accuracy: 0.8074 - val_loss: 2.0387 - val_accuracy: 0.5065\n",
      "Epoch 63/100\n",
      "50000/50000 [==============================] - 6s 117us/step - loss: 0.5232 - accuracy: 0.8111 - val_loss: 2.0650 - val_accuracy: 0.5141\n",
      "Epoch 64/100\n",
      "50000/50000 [==============================] - 6s 111us/step - loss: 0.5200 - accuracy: 0.8123 - val_loss: 2.1040 - val_accuracy: 0.5095\n",
      "Epoch 65/100\n",
      "50000/50000 [==============================] - 6s 111us/step - loss: 0.4986 - accuracy: 0.8214 - val_loss: 2.1504 - val_accuracy: 0.5134\n",
      "Epoch 66/100\n",
      "50000/50000 [==============================] - 7s 138us/step - loss: 0.4946 - accuracy: 0.8214 - val_loss: 2.1890 - val_accuracy: 0.5068\n",
      "Epoch 67/100\n",
      "50000/50000 [==============================] - 6s 117us/step - loss: 0.4848 - accuracy: 0.8243 - val_loss: 2.1936 - val_accuracy: 0.5089\n",
      "Epoch 68/100\n",
      "50000/50000 [==============================] - 6s 124us/step - loss: 0.4644 - accuracy: 0.8340 - val_loss: 2.2194 - val_accuracy: 0.5142\n",
      "Epoch 69/100\n",
      "50000/50000 [==============================] - 6s 114us/step - loss: 0.4733 - accuracy: 0.8305 - val_loss: 2.3089 - val_accuracy: 0.5041\n",
      "Epoch 70/100\n",
      "50000/50000 [==============================] - 6s 115us/step - loss: 0.4646 - accuracy: 0.8330 - val_loss: 2.2473 - val_accuracy: 0.5134\n",
      "Epoch 71/100\n",
      "50000/50000 [==============================] - 6s 112us/step - loss: 0.4602 - accuracy: 0.8353 - val_loss: 2.3549 - val_accuracy: 0.5054\n",
      "Epoch 72/100\n",
      "50000/50000 [==============================] - 6s 112us/step - loss: 0.4511 - accuracy: 0.8370 - val_loss: 2.3801 - val_accuracy: 0.5097\n",
      "Epoch 73/100\n",
      "50000/50000 [==============================] - 6s 112us/step - loss: 0.4403 - accuracy: 0.8420 - val_loss: 2.4146 - val_accuracy: 0.4976\n",
      "Epoch 74/100\n",
      "50000/50000 [==============================] - 7s 133us/step - loss: 0.4375 - accuracy: 0.8436 - val_loss: 2.3994 - val_accuracy: 0.5017\n",
      "Epoch 75/100\n",
      "50000/50000 [==============================] - 6s 113us/step - loss: 0.4220 - accuracy: 0.8478 - val_loss: 2.4257 - val_accuracy: 0.5125\n",
      "Epoch 76/100\n",
      "50000/50000 [==============================] - 6s 120us/step - loss: 0.4225 - accuracy: 0.8473 - val_loss: 2.4252 - val_accuracy: 0.5054\n",
      "Epoch 77/100\n",
      "50000/50000 [==============================] - 6s 120us/step - loss: 0.4159 - accuracy: 0.8497 - val_loss: 2.4732 - val_accuracy: 0.5127\n",
      "Epoch 78/100\n",
      "50000/50000 [==============================] - 6s 122us/step - loss: 0.4080 - accuracy: 0.8531 - val_loss: 2.5334 - val_accuracy: 0.5050\n",
      "Epoch 79/100\n",
      "50000/50000 [==============================] - 6s 123us/step - loss: 0.4002 - accuracy: 0.8565 - val_loss: 2.6296 - val_accuracy: 0.5019\n",
      "Epoch 80/100\n",
      "50000/50000 [==============================] - 6s 121us/step - loss: 0.4052 - accuracy: 0.8538 - val_loss: 2.7386 - val_accuracy: 0.4955\n",
      "Epoch 81/100\n",
      "50000/50000 [==============================] - 6s 116us/step - loss: 0.3983 - accuracy: 0.8565 - val_loss: 2.6168 - val_accuracy: 0.5057\n",
      "Epoch 82/100\n",
      "50000/50000 [==============================] - 6s 113us/step - loss: 0.3895 - accuracy: 0.8581 - val_loss: 2.6503 - val_accuracy: 0.5026\n",
      "Epoch 83/100\n",
      "50000/50000 [==============================] - 6s 123us/step - loss: 0.3762 - accuracy: 0.8642 - val_loss: 2.6058 - val_accuracy: 0.5058\n",
      "Epoch 84/100\n",
      "50000/50000 [==============================] - 6s 115us/step - loss: 0.3552 - accuracy: 0.8714 - val_loss: 2.7248 - val_accuracy: 0.4984\n",
      "Epoch 85/100\n",
      "50000/50000 [==============================] - 6s 116us/step - loss: 0.3501 - accuracy: 0.8753 - val_loss: 2.7384 - val_accuracy: 0.5005\n",
      "Epoch 86/100\n",
      "50000/50000 [==============================] - 6s 115us/step - loss: 0.3672 - accuracy: 0.8664 - val_loss: 2.8122 - val_accuracy: 0.5062\n",
      "Epoch 87/100\n",
      "50000/50000 [==============================] - 6s 118us/step - loss: 0.3684 - accuracy: 0.8656 - val_loss: 2.8037 - val_accuracy: 0.5025\n",
      "Epoch 88/100\n",
      "50000/50000 [==============================] - 6s 118us/step - loss: 0.3611 - accuracy: 0.8704 - val_loss: 2.8684 - val_accuracy: 0.4952\n",
      "Epoch 89/100\n",
      "50000/50000 [==============================] - 6s 123us/step - loss: 0.3550 - accuracy: 0.8721 - val_loss: 2.9087 - val_accuracy: 0.5012\n",
      "Epoch 90/100\n",
      "50000/50000 [==============================] - 6s 122us/step - loss: 0.3537 - accuracy: 0.8711 - val_loss: 2.9317 - val_accuracy: 0.4958\n",
      "Epoch 91/100\n",
      "50000/50000 [==============================] - 6s 116us/step - loss: 0.3366 - accuracy: 0.8793 - val_loss: 2.9155 - val_accuracy: 0.4983\n",
      "Epoch 92/100\n",
      "50000/50000 [==============================] - 6s 112us/step - loss: 0.3265 - accuracy: 0.8840 - val_loss: 2.9905 - val_accuracy: 0.4967\n",
      "Epoch 93/100\n",
      "50000/50000 [==============================] - 6s 129us/step - loss: 0.3485 - accuracy: 0.8728 - val_loss: 2.9755 - val_accuracy: 0.4990\n",
      "Epoch 94/100\n",
      "50000/50000 [==============================] - 6s 115us/step - loss: 0.3252 - accuracy: 0.8828 - val_loss: 3.0295 - val_accuracy: 0.4973\n",
      "Epoch 95/100\n",
      "50000/50000 [==============================] - 6s 115us/step - loss: 0.3301 - accuracy: 0.8811 - val_loss: 3.1361 - val_accuracy: 0.4997\n",
      "Epoch 96/100\n",
      "50000/50000 [==============================] - 6s 125us/step - loss: 0.3219 - accuracy: 0.8834 - val_loss: 3.1315 - val_accuracy: 0.4957\n",
      "Epoch 97/100\n",
      "50000/50000 [==============================] - 7s 135us/step - loss: 0.2993 - accuracy: 0.8921 - val_loss: 3.0620 - val_accuracy: 0.5039\n",
      "Epoch 98/100\n",
      "50000/50000 [==============================] - 7s 134us/step - loss: 0.3095 - accuracy: 0.8892 - val_loss: 3.1785 - val_accuracy: 0.4976\n",
      "Epoch 99/100\n",
      "50000/50000 [==============================] - 6s 116us/step - loss: 0.3172 - accuracy: 0.8855 - val_loss: 3.1554 - val_accuracy: 0.4873\n",
      "Epoch 100/100\n",
      "50000/50000 [==============================] - 6s 127us/step - loss: 0.3014 - accuracy: 0.8902 - val_loss: 3.2014 - val_accuracy: 0.4973\n"
     ]
    },
    {
     "data": {
      "text/plain": [
       "<keras.callbacks.callbacks.History at 0x641728250>"
      ]
     },
     "execution_count": 10,
     "metadata": {},
     "output_type": "execute_result"
    }
   ],
   "source": [
    "model.fit(x_train, y_train, \n",
    "          epochs=EPOCHS, \n",
    "          batch_size=BATCH_SIZE, \n",
    "          validation_data=(x_test, y_test), \n",
    "          shuffle=True)"
   ]
  },
  {
   "cell_type": "code",
   "execution_count": 12,
   "metadata": {},
   "outputs": [
    {
     "data": {
      "image/png": "[encoded data removed]",
      "text/plain": [
       "<Figure size 432x288 with 1 Axes>"
      ]
     },
     "metadata": {
      "needs_background": "light"
     },
     "output_type": "display_data"
    },
    {
     "data": {
      "image/png": "[encoded data removed]",
      "text/plain": [
       "<Figure size 432x288 with 1 Axes>"
      ]
     },
     "metadata": {
      "needs_background": "light"
     },
     "output_type": "display_data"
    }
   ],
   "source": [
    "# 訓練模型並檢視驗證集的結果\n",
    "import matplotlib.pyplot as plt\n",
    "\n",
    "train_loss = model.history.history[\"loss\"]\n",
    "valid_loss = model.history.history[\"val_loss\"]\n",
    "\n",
    "train_acc = model.history.history[\"accuracy\"]\n",
    "valid_acc = model.history.history[\"val_accuracy\"]\n",
    "\n",
    "plt.plot(range(len(train_loss)), train_loss, label=\"train loss\")\n",
    "plt.plot(range(len(valid_loss)), valid_loss, label=\"valid loss\")\n",
    "plt.legend()\n",
    "plt.title(\"Loss\")\n",
    "plt.show()\n",
    "\n",
    "plt.plot(range(len(train_acc)), train_acc, label=\"train accuracy\")\n",
    "plt.plot(range(len(valid_acc)), valid_acc, label=\"valid accuracy\")\n",
    "plt.legend()\n",
    "plt.title(\"Accuracy\")\n",
    "plt.show()"
   ]
  },
  {
   "cell_type": "code",
   "execution_count": null,
   "metadata": {},
   "outputs": [],
   "source": []
  }
 ],
 "metadata": {
  "kernelspec": {
   "display_name": "Python 3",
   "language": "python",
   "name": "python3"
  },
  "language_info": {
   "codemirror_mode": {
    "name": "ipython",
    "version": 3
   },
   "file_extension": ".py",
   "mimetype": "text/x-python",
   "name": "python",
   "nbconvert_exporter": "python",
   "pygments_lexer": "ipython3",
   "version": "3.7.6"
  }
 },
 "nbformat": 4,
 "nbformat_minor": 4
}
