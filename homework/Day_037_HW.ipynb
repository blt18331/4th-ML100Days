{
 "cells": [
  {
   "cell_type": "code",
   "execution_count": null,
   "metadata": {},
   "outputs": [],
   "source": [
    "#線性回歸模型能夠準確預測非線性關係的資料集嗎?\n",
    "#應該是不行的，但是可以將回歸模型改成非線性的二次或三次模型來預測非線性關係的資料庫\n",
    "#回歸模型是否對資料分布有基本假設?\n",
    "#資料應該要有獨立性、均值性並呈現常態分佈"
   ]
  }
 ],
 "metadata": {
  "kernelspec": {
   "display_name": "Python 3",
   "language": "python",
   "name": "python3"
  },
  "language_info": {
   "codemirror_mode": {
    "name": "ipython",
    "version": 3
   },
   "file_extension": ".py",
   "mimetype": "text/x-python",
   "name": "python",
   "nbconvert_exporter": "python",
   "pygments_lexer": "ipython3",
   "version": "3.6.5"
  }
 },
 "nbformat": 4,
 "nbformat_minor": 2
}
