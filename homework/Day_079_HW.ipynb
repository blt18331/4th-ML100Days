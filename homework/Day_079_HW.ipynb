{
 "cells": [
  {
   "cell_type": "code",
   "execution_count": 1,
   "metadata": {},
   "outputs": [
    {
     "name": "stderr",
     "output_type": "stream",
     "text": [
      "Using TensorFlow backend.\n"
     ]
    }
   ],
   "source": [
    "import os\n",
    "import keras"
   ]
  },
  {
   "cell_type": "code",
   "execution_count": 4,
   "metadata": {},
   "outputs": [],
   "source": [
    "# 從 Keras 的內建功能中，取得 train 與 test 資料集\n",
    "train, test = keras.datasets.cifar10.load_data()"
   ]
  },
  {
   "cell_type": "code",
   "execution_count": 5,
   "metadata": {},
   "outputs": [],
   "source": [
    "## 資料前處理\n",
    "def preproc_x(x, flatten=True):\n",
    "    x = x / 255.\n",
    "    if flatten:\n",
    "        x = x.reshape((len(x), -1))\n",
    "    return x\n",
    "\n",
    "def preproc_y(y, num_classes=10):\n",
    "    if y.shape[-1] == 1:\n",
    "        y = keras.utils.to_categorical(y, num_classes)\n",
    "    return y    "
   ]
  },
  {
   "cell_type": "code",
   "execution_count": 6,
   "metadata": {},
   "outputs": [],
   "source": [
    "x_train, y_train = train\n",
    "x_test, y_test = test\n",
    "\n",
    "# 資料前處理 - X 標準化\n",
    "x_train = preproc_x(x_train)\n",
    "x_test = preproc_x(x_test)\n",
    "\n",
    "# 資料前處理 -Y 轉成 onehot\n",
    "y_train = preproc_y(y_train)\n",
    "y_test = preproc_y(y_test)"
   ]
  },
  {
   "cell_type": "code",
   "execution_count": 7,
   "metadata": {},
   "outputs": [],
   "source": [
    "def build_mlp(input_shape, output_units=10, num_neurons=[512, 256, 128]):\n",
    "    input_layer = keras.layers.Input(input_shape)\n",
    "    \n",
    "    for i, n_units in enumerate(num_neurons):\n",
    "        if i == 0:\n",
    "            x = keras.layers.Dense(units=n_units, activation=\"relu\", name=\"hidden_layer\"+str(i+1))(input_layer)\n",
    "        else:\n",
    "            x = keras.layers.Dense(units=n_units, activation=\"relu\", name=\"hidden_layer\"+str(i+1))(x)\n",
    "    \n",
    "    out = keras.layers.Dense(units=output_units, activation=\"softmax\", name=\"output\")(x)\n",
    "    \n",
    "    model = keras.models.Model(inputs=[input_layer], outputs=[out])\n",
    "    return model"
   ]
  },
  {
   "cell_type": "code",
   "execution_count": 8,
   "metadata": {},
   "outputs": [],
   "source": [
    "## 超參數設定\n",
    "LEARNING_RATE = [1e-1, 1e-2, 1e-3, 1e-4, 1e-5]\n",
    "EPOCHS = 50\n",
    "BATCH_SIZE = 256\n",
    "MOMENTUM = 0.95"
   ]
  },
  {
   "cell_type": "code",
   "execution_count": null,
   "metadata": {},
   "outputs": [
    {
     "name": "stdout",
     "output_type": "stream",
     "text": [
      "Experiment with LR = 0.100000\n",
      "Model: \"model_1\"\n",
      "_________________________________________________________________\n",
      "Layer (type)                 Output Shape              Param #   \n",
      "=================================================================\n",
      "input_1 (InputLayer)         (None, 3072)              0         \n",
      "_________________________________________________________________\n",
      "hidden_layer1 (Dense)        (None, 512)               1573376   \n",
      "_________________________________________________________________\n",
      "hidden_layer2 (Dense)        (None, 256)               131328    \n",
      "_________________________________________________________________\n",
      "hidden_layer3 (Dense)        (None, 128)               32896     \n",
      "_________________________________________________________________\n",
      "output (Dense)               (None, 10)                1290      \n",
      "=================================================================\n",
      "Total params: 1,738,890\n",
      "Trainable params: 1,738,890\n",
      "Non-trainable params: 0\n",
      "_________________________________________________________________\n",
      "Train on 50000 samples, validate on 10000 samples\n",
      "Epoch 1/50\n",
      "50000/50000 [==============================] - 6s 127us/step - loss: 2.2364 - accuracy: 0.1450 - val_loss: 2.1459 - val_accuracy: 0.1823\n",
      "Epoch 2/50\n",
      "50000/50000 [==============================] - 5s 110us/step - loss: 2.0040 - accuracy: 0.2352 - val_loss: 1.9187 - val_accuracy: 0.2927\n",
      "Epoch 3/50\n",
      "50000/50000 [==============================] - 5s 105us/step - loss: 1.8699 - accuracy: 0.3120 - val_loss: 1.8439 - val_accuracy: 0.3210\n",
      "Epoch 4/50\n",
      "50000/50000 [==============================] - 5s 105us/step - loss: 1.7985 - accuracy: 0.3445 - val_loss: 1.7989 - val_accuracy: 0.3387\n",
      "Epoch 5/50\n",
      "50000/50000 [==============================] - 6s 118us/step - loss: 1.7891 - accuracy: 0.3463 - val_loss: 1.8003 - val_accuracy: 0.3404\n",
      "Epoch 6/50\n",
      "50000/50000 [==============================] - 6s 111us/step - loss: 1.7680 - accuracy: 0.3571 - val_loss: 1.8218 - val_accuracy: 0.3311\n",
      "Epoch 7/50\n",
      "50000/50000 [==============================] - 6s 118us/step - loss: 1.7505 - accuracy: 0.3597 - val_loss: 1.8889 - val_accuracy: 0.3276\n",
      "Epoch 8/50\n",
      "50000/50000 [==============================] - 5s 106us/step - loss: 1.7439 - accuracy: 0.3636 - val_loss: 1.9569 - val_accuracy: 0.3167\n",
      "Epoch 9/50\n",
      "50000/50000 [==============================] - 5s 109us/step - loss: 1.7322 - accuracy: 0.3705 - val_loss: 1.7762 - val_accuracy: 0.3446\n",
      "Epoch 10/50\n",
      "50000/50000 [==============================] - 6s 123us/step - loss: 1.7054 - accuracy: 0.3787 - val_loss: 1.8746 - val_accuracy: 0.3429\n",
      "Epoch 11/50\n",
      "50000/50000 [==============================] - 5s 106us/step - loss: 1.6890 - accuracy: 0.3880 - val_loss: 1.7305 - val_accuracy: 0.3633\n",
      "Epoch 12/50\n",
      "50000/50000 [==============================] - 6s 115us/step - loss: 1.6768 - accuracy: 0.3959 - val_loss: 1.7442 - val_accuracy: 0.3751\n",
      "Epoch 13/50\n",
      "50000/50000 [==============================] - 5s 106us/step - loss: 1.6623 - accuracy: 0.3994 - val_loss: 1.6897 - val_accuracy: 0.3939\n",
      "Epoch 14/50\n",
      "50000/50000 [==============================] - 5s 109us/step - loss: 1.6495 - accuracy: 0.4057 - val_loss: 1.6984 - val_accuracy: 0.3897\n",
      "Epoch 15/50\n",
      "50000/50000 [==============================] - 5s 108us/step - loss: 1.6342 - accuracy: 0.4110 - val_loss: 1.6977 - val_accuracy: 0.3930\n",
      "Epoch 16/50\n",
      "50000/50000 [==============================] - 6s 114us/step - loss: 1.6238 - accuracy: 0.4187 - val_loss: 1.7036 - val_accuracy: 0.4060\n",
      "Epoch 17/50\n",
      "50000/50000 [==============================] - 6s 115us/step - loss: 1.6203 - accuracy: 0.4233 - val_loss: 1.7741 - val_accuracy: 0.3824\n",
      "Epoch 18/50\n",
      "50000/50000 [==============================] - 6s 114us/step - loss: 1.6062 - accuracy: 0.4264 - val_loss: 1.6875 - val_accuracy: 0.3978\n",
      "Epoch 19/50\n",
      "50000/50000 [==============================] - 6s 124us/step - loss: 1.6049 - accuracy: 0.4286 - val_loss: 1.6289 - val_accuracy: 0.4260\n",
      "Epoch 20/50\n",
      "50000/50000 [==============================] - 6s 122us/step - loss: 1.5979 - accuracy: 0.4309 - val_loss: 1.6652 - val_accuracy: 0.4132\n",
      "Epoch 21/50\n",
      "50000/50000 [==============================] - 5s 104us/step - loss: 1.5994 - accuracy: 0.4303 - val_loss: 1.6215 - val_accuracy: 0.4230\n",
      "Epoch 22/50\n",
      "50000/50000 [==============================] - 6s 129us/step - loss: 1.5895 - accuracy: 0.4347 - val_loss: 1.7184 - val_accuracy: 0.4057\n",
      "Epoch 23/50\n",
      "50000/50000 [==============================] - 6s 112us/step - loss: 1.5840 - accuracy: 0.4370 - val_loss: 1.6753 - val_accuracy: 0.4181\n",
      "Epoch 24/50\n",
      "50000/50000 [==============================] - 5s 107us/step - loss: 1.5801 - accuracy: 0.4391 - val_loss: 1.7439 - val_accuracy: 0.3943\n",
      "Epoch 25/50\n",
      "50000/50000 [==============================] - 6s 110us/step - loss: 1.5683 - accuracy: 0.4438 - val_loss: 1.6990 - val_accuracy: 0.4114\n",
      "Epoch 26/50\n",
      "50000/50000 [==============================] - 6s 123us/step - loss: 1.5587 - accuracy: 0.4468 - val_loss: 1.7461 - val_accuracy: 0.3970\n",
      "Epoch 27/50\n",
      "50000/50000 [==============================] - 6s 122us/step - loss: 1.5636 - accuracy: 0.4453 - val_loss: 1.6377 - val_accuracy: 0.4113\n",
      "Epoch 28/50\n",
      "50000/50000 [==============================] - 5s 108us/step - loss: 1.5603 - accuracy: 0.4478 - val_loss: 1.6804 - val_accuracy: 0.4172\n",
      "Epoch 29/50\n",
      "50000/50000 [==============================] - 5s 103us/step - loss: 1.5568 - accuracy: 0.4509 - val_loss: 1.6795 - val_accuracy: 0.4052\n",
      "Epoch 30/50\n",
      "20480/50000 [===========>..................] - ETA: 2s - loss: 1.5289 - accuracy: 0.4600"
     ]
    }
   ],
   "source": [
    "results = {}\n",
    "\"\"\"\n",
    "使用迴圈，建立不同 Learning rate 的模型並訓練\n",
    "\"\"\"\n",
    "for lr in LEARNING_RATE:\n",
    "    keras.backend.clear_session() # 把舊的 Graph 清掉\n",
    "    print(\"Experiment with LR = %.6f\" % (lr))\n",
    "    model = build_mlp(input_shape=x_train.shape[1:])\n",
    "    model.summary()\n",
    "    optimizer = keras.optimizers.SGD(lr=lr, nesterov=True, momentum=MOMENTUM)\n",
    "    model.compile(loss=\"categorical_crossentropy\", metrics=[\"accuracy\"], optimizer=optimizer)\n",
    "\n",
    "    model.fit(x_train, y_train, \n",
    "              epochs=EPOCHS, \n",
    "              batch_size=BATCH_SIZE, \n",
    "              validation_data=(x_test, y_test), \n",
    "              shuffle=True)\n",
    "    \n",
    "    # Collect results\n",
    "    train_loss = model.history.history[\"loss\"]\n",
    "    valid_loss = model.history.history[\"val_loss\"]\n",
    "    train_acc = model.history.history[\"acc\"]\n",
    "    valid_acc = model.history.history[\"val_acc\"]\n",
    "    \n",
    "    exp_name_tag = \"exp-lr-%s\" % str(lr)\n",
    "    results[exp_name_tag] = {'train-loss': train_loss,\n",
    "                             'valid-loss': valid_loss,\n",
    "                             'train-acc': train_acc,\n",
    "                             'valid-acc': valid_acc}"
   ]
  },
  {
   "cell_type": "code",
   "execution_count": null,
   "metadata": {},
   "outputs": [],
   "source": [
    "import matplotlib.pyplot as plt\n",
    "%matplotlib inline\n",
    "color_bar = [\"r\", \"g\", \"b\", \"y\", \"m\", \"k\"]\n",
    "\n",
    "plt.figure(figsize=(8,6))\n",
    "for i, cond in enumerate(results.keys()):\n",
    "    plt.plot(range(len(results[cond]['train-loss'])),results[cond]['train-loss'], '-', label=cond, color=color_bar[i])\n",
    "    plt.plot(range(len(results[cond]['valid-loss'])),results[cond]['valid-loss'], '--', label=cond, color=color_bar[i])\n",
    "plt.title(\"Loss\")\n",
    "plt.legend()\n",
    "plt.show()\n",
    "\n",
    "plt.figure(figsize=(8,6))\n",
    "for i, cond in enumerate(results.keys()):\n",
    "    plt.plot(range(len(results[cond]['train-acc'])),results[cond]['train-acc'], '-', label=cond, color=color_bar[i])\n",
    "    plt.plot(range(len(results[cond]['valid-acc'])),results[cond]['valid-acc'], '--', label=cond, color=color_bar[i])\n",
    "plt.title(\"Accuracy\")\n",
    "plt.legend()\n",
    "plt.show()"
   ]
  },
  {
   "cell_type": "code",
   "execution_count": null,
   "metadata": {},
   "outputs": [],
   "source": [
    "train, test = keras.datasets.cifar10.load_data()"
   ]
  },
  {
   "cell_type": "code",
   "execution_count": null,
   "metadata": {},
   "outputs": [],
   "source": [
    "## 資料前處理\n",
    "def preproc_x(x, flatten=True):\n",
    "    x = x / 255.\n",
    "    if flatten:\n",
    "        x = x.reshape((len(x), -1))\n",
    "    return x\n",
    "\n",
    "def preproc_y(y, num_classes=10):\n",
    "    if y.shape[-1] == 1:\n",
    "        y = keras.utils.to_categorical(y, num_classes)\n",
    "    return y    "
   ]
  },
  {
   "cell_type": "code",
   "execution_count": null,
   "metadata": {},
   "outputs": [],
   "source": [
    "x_train, y_train = train\n",
    "x_test, y_test = test\n",
    "\n",
    "# 資料前處理 - X 標準化\n",
    "x_train = preproc_x(x_train)\n",
    "x_test = preproc_x(x_test)\n",
    "\n",
    "# 資料前處理 -Y 轉成 onehot\n",
    "y_train = preproc_y(y_train)\n",
    "y_test = preproc_y(y_test)"
   ]
  },
  {
   "cell_type": "code",
   "execution_count": null,
   "metadata": {},
   "outputs": [],
   "source": [
    "def build_mlp(input_shape, output_units=10, num_neurons=[512, 256, 128]):\n",
    "    input_layer = keras.layers.Input(input_shape)\n",
    "    \n",
    "    for i, n_units in enumerate(num_neurons):\n",
    "        if i == 0:\n",
    "            x = keras.layers.Dense(units=n_units, activation=\"relu\", name=\"hidden_layer\"+str(i+1))(input_layer)\n",
    "        else:\n",
    "            x = keras.layers.Dense(units=n_units, activation=\"relu\", name=\"hidden_layer\"+str(i+1))(x)\n",
    "    \n",
    "    out = keras.layers.Dense(units=output_units, activation=\"softmax\", name=\"output\")(x)\n",
    "    \n",
    "    model = keras.models.Model(inputs=[input_layer], outputs=[out])\n",
    "    return model"
   ]
  },
  {
   "cell_type": "code",
   "execution_count": null,
   "metadata": {},
   "outputs": [],
   "source": [
    "#設定超參數,不同的 momentum \n",
    "LEARNING_RATE = [1e-1, 1e-2, 1e-3, 1e-4, 1e-5]\n",
    "EPOCHS = 50\n",
    "BATCH_SIZE = 256\n",
    "MOMENTUM = 0.8"
   ]
  },
  {
   "cell_type": "code",
   "execution_count": null,
   "metadata": {},
   "outputs": [],
   "source": [
    "results = {}\n",
    "\"\"\"Code Here\n",
    "撰寫你的訓練流程並將結果用 dictionary 紀錄\n",
    "\"\"\"\n",
    "for lr in LEARNING_RATE:\n",
    "    keras.backend.clear_session() # 把舊的 Graph 清掉\n",
    "    print(\"Experiment with LR = %.6f\" % (lr))\n",
    "    model = build_mlp(input_shape=x_train.shape[1:])\n",
    "    model.summary()\n",
    "    optimizer = keras.optimizers.SGD(lr=lr, nesterov=True, momentum=MOMENTUM)\n",
    "    model.compile(loss=\"categorical_crossentropy\", metrics=[\"accuracy\"], optimizer=optimizer)\n",
    "\n",
    "    model.fit(x_train, y_train, \n",
    "              epochs=EPOCHS, \n",
    "              batch_size=BATCH_SIZE, \n",
    "              validation_data=(x_test, y_test), \n",
    "              shuffle=True)\n",
    "    \n",
    "    # Collect results\n",
    "    train_loss = model.history.history[\"loss\"]\n",
    "    valid_loss = model.history.history[\"val_loss\"]\n",
    "    train_acc = model.history.history[\"acc\"]\n",
    "    valid_acc = model.history.history[\"val_acc\"]\n",
    "    \n",
    "    exp_name_tag = \"exp-lr-%s\" % str(lr)\n",
    "    results[exp_name_tag] = {'train-loss': train_loss,\n",
    "                             'valid-loss': valid_loss,\n",
    "                             'train-acc': train_acc,\n",
    "                             'valid-acc': valid_acc}"
   ]
  },
  {
   "cell_type": "code",
   "execution_count": null,
   "metadata": {},
   "outputs": [],
   "source": [
    "import matplotlib.pyplot as plt\n",
    "%matplotlib inline\n",
    "color_bar = [\"r\", \"g\", \"b\", \"y\", \"m\", \"k\"]\n",
    "\n",
    "plt.figure(figsize=(8,6))\n",
    "for i, cond in enumerate(results.keys()):\n",
    "    plt.plot(range(len(results[cond]['train-loss'])),results[cond]['train-loss'], '-', label=cond, color=color_bar[i])\n",
    "    plt.plot(range(len(results[cond]['valid-loss'])),results[cond]['valid-loss'], '--', label=cond, color=color_bar[i])\n",
    "plt.title(\"Loss\")\n",
    "plt.legend()\n",
    "plt.show()\n",
    "\n",
    "plt.figure(figsize=(8,6))\n",
    "for i, cond in enumerate(results.keys()):\n",
    "    plt.plot(range(len(results[cond]['train-acc'])),results[cond]['train-acc'], '-', label=cond, color=color_bar[i])\n",
    "    plt.plot(range(len(results[cond]['valid-acc'])),results[cond]['valid-acc'], '--', label=cond, color=color_bar[i])\n",
    "plt.title(\"Accuracy\")\n",
    "plt.legend()\n",
    "plt.show()"
   ]
  }
 ],
 "metadata": {
  "kernelspec": {
   "display_name": "Python 3",
   "language": "python",
   "name": "python3"
  },
  "language_info": {
   "codemirror_mode": {
    "name": "ipython",
    "version": 3
   },
   "file_extension": ".py",
   "mimetype": "text/x-python",
   "name": "python",
   "nbconvert_exporter": "python",
   "pygments_lexer": "ipython3",
   "version": "3.7.6"
  }
 },
 "nbformat": 4,
 "nbformat_minor": 4
}
