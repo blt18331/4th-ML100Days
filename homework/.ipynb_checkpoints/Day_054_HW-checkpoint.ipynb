{
 "cells": [
  {
   "cell_type": "code",
   "execution_count": null,
   "metadata": {},
   "outputs": [],
   "source": [
    "#非監督學習是否有可能使用評價函數 (Metric) 來鑑別好壞呢?\n",
    "#有目標值 : 評估的方式與分類問題相似，但須要確定生成的分類和原訂標籤的對照關係。\n",
    "#無目標值 : 為非監督的概念，同一群資料越靠近或不同群資料離的越遠，是其主要評斷標準。"
   ]
  }
 ],
 "metadata": {
  "kernelspec": {
   "display_name": "Python 3",
   "language": "python",
   "name": "python3"
  },
  "language_info": {
   "codemirror_mode": {
    "name": "ipython",
    "version": 3
   },
   "file_extension": ".py",
   "mimetype": "text/x-python",
   "name": "python",
   "nbconvert_exporter": "python",
   "pygments_lexer": "ipython3",
   "version": "3.6.5"
  }
 },
 "nbformat": 4,
 "nbformat_minor": 2
}
